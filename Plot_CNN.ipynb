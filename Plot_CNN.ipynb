{
 "cells": [
  {
   "cell_type": "code",
   "execution_count": 327,
   "metadata": {
    "collapsed": true
   },
   "outputs": [],
   "source": [
    "from keras import applications\n",
    "from keras.models import Sequential\n",
    "from keras.models import Model\n",
    "from keras.layers import Dropout, Flatten, Dense, Activation\n",
    "from keras.callbacks import CSVLogger\n",
    "import tensorflow as tf\n",
    "from scipy.ndimage import imread\n",
    "import numpy as np\n",
    "import random\n",
    "from keras.layers import LSTM\n",
    "from keras.layers import Conv1D, MaxPooling1D, LeakyReLU\n",
    "from keras import backend as K\n",
    "import keras\n",
    "from keras.callbacks import CSVLogger, ModelCheckpoint\n",
    "from keras.backend.tensorflow_backend import set_session\n",
    "from keras import optimizers\n",
    "import h5py\n",
    "from sklearn.preprocessing import MinMaxScaler\n",
    "import os\n",
    "import pandas as pd\n",
    "# import matplotlib\n",
    "\n",
    "import matplotlib.pyplot as plt"
   ]
  },
  {
   "cell_type": "code",
   "execution_count": 328,
   "metadata": {
    "collapsed": true
   },
   "outputs": [],
   "source": [
    "os.environ['CUDA_DEVICE_ORDER'] = 'PCI_BUS_ID'\n",
    "os.environ['CUDA_VISIBLE_DEVICES'] = '0'\n",
    "os.environ['TF_CPP_MIN_LOG_LEVEL']='2'"
   ]
  },
  {
   "cell_type": "code",
   "execution_count": 329,
   "metadata": {
    "collapsed": true
   },
   "outputs": [],
   "source": [
    "config = tf.ConfigProto()\n",
    "config.gpu_options.allow_growth = True\n",
    "set_session(tf.Session(config=config))"
   ]
  },
  {
   "cell_type": "code",
   "execution_count": 330,
   "metadata": {
    "collapsed": true
   },
   "outputs": [],
   "source": [
    "with h5py.File(''.join(['bitcoin2015to2017_close.h5']), 'r') as hf:\n",
    "    datas = hf['inputs'].value\n",
    "    labels = hf['outputs'].value\n",
    "    input_times = hf['input_times'].value\n",
    "    output_times = hf['output_times'].value\n",
    "    original_inputs = hf['original_inputs'].value\n",
    "    original_outputs = hf['original_outputs'].value\n",
    "    original_datas = hf['original_datas'].value"
   ]
  },
  {
   "cell_type": "code",
   "execution_count": 331,
   "metadata": {
    "collapsed": true
   },
   "outputs": [],
   "source": [
    "scaler=MinMaxScaler()\n",
    "#split training validation\n",
    "training_size = int(0.8* datas.shape[0])\n",
    "training_datas = datas[:training_size,:,:]\n",
    "training_labels = labels[:training_size,:,:]\n",
    "validation_datas = datas[training_size:,:,:]\n",
    "validation_labels = labels[training_size:,:,:]\n",
    "validation_original_outputs = original_outputs[training_size:,:,:]\n",
    "validation_original_inputs = original_inputs[training_size:,:,:]\n",
    "validation_input_times = input_times[training_size:,:,:]\n",
    "validation_output_times = output_times[training_size:,:,:]"
   ]
  },
  {
   "cell_type": "code",
   "execution_count": 332,
   "metadata": {},
   "outputs": [
    {
     "data": {
      "text/plain": [
       "(221, 272, 1)"
      ]
     },
     "execution_count": 332,
     "metadata": {},
     "output_type": "execute_result"
    }
   ],
   "source": [
    "ground_true = np.append(validation_original_inputs,validation_original_outputs, axis=1)\n",
    "ground_true.shape"
   ]
  },
  {
   "cell_type": "code",
   "execution_count": 333,
   "metadata": {
    "scrolled": true
   },
   "outputs": [
    {
     "data": {
      "text/plain": [
       "(221, 272, 1)"
      ]
     },
     "execution_count": 333,
     "metadata": {},
     "output_type": "execute_result"
    }
   ],
   "source": [
    "ground_true_times = np.append(validation_input_times,validation_output_times, axis=1)\n",
    "ground_true_times.shape"
   ]
  },
  {
   "cell_type": "code",
   "execution_count": 334,
   "metadata": {
    "collapsed": true
   },
   "outputs": [],
   "source": [
    "step_size = datas.shape[1]\n",
    "batch_size= 8\n",
    "nb_features = datas.shape[2]\n",
    "epochs = 1"
   ]
  },
  {
   "cell_type": "code",
   "execution_count": 335,
   "metadata": {},
   "outputs": [],
   "source": [
    "#build model\n",
    "\n",
    "model = Sequential()\n",
    "\n",
    "# 2 layers\n",
    "model.add(Conv1D(activation='relu', input_shape=(step_size, nb_features), strides=3, filters=8, kernel_size=20))\n",
    "# model.add(LeakyReLU())\n",
    "model.add(Dropout(0.25))\n",
    "model.add(Conv1D( strides=4, filters=nb_features, kernel_size=16))\n",
    "\n",
    "'''\n",
    "# 3 layers\n",
    "model.add(Conv1D(activation='relu', input_shape=(step_size, nb_features), strides=3, filters=8, kernel_size=8))\n",
    "# model.add(LeakyReLU())\n",
    "model.add(Dropout(0.5))\n",
    "model.add(Conv1D(activation='relu', strides=2, filters=8, kernel_size=8))\n",
    "# model.add(LeakyReLU())\n",
    "model.add(Dropout(0.5))\n",
    "model.add(Conv1D( strides=2, filters=nb_features, kernel_size=8))\n",
    "model.summary()\n",
    "\n",
    "# 4 layers\n",
    "model.add(Conv1D(activation='relu', input_shape=(step_size, nb_features), strides=2, filters=8, kernel_size=2))\n",
    "# model.add(LeakyReLU())\n",
    "model.add(Dropout(0.5))\n",
    "model.add(Conv1D(activation='relu', strides=2, filters=8, kernel_size=2))\n",
    "# model.add(LeakyReLU())\n",
    "model.add(Dropout(0.5))\n",
    "model.add(Conv1D(activation='relu', strides=2, filters=8, kernel_size=2))\n",
    "# model.add(LeakyReLU())\n",
    "model.add(Dropout(0.5))\n",
    "model.add(Conv1D( strides=2, filters=nb_features, kernel_size=2))\n",
    "'''\n",
    "model.load_weights('weights/bitcoin2015to2017_close_CNN_2_relu-44-0.00030.hdf5')\n",
    "model.compile(loss='mse', optimizer='adam')"
   ]
  },
  {
   "cell_type": "code",
   "execution_count": 336,
   "metadata": {},
   "outputs": [
    {
     "name": "stdout",
     "output_type": "stream",
     "text": [
      "(1, 221, 16)\n",
      "(3536,)\n"
     ]
    }
   ],
   "source": [
    "predicted = model.predict(validation_datas)\n",
    "predicted_inverted = []\n",
    "\n",
    "# In[7]:\n",
    "for i in range(original_datas.shape[1]):\n",
    "    scaler.fit(original_datas[:,i].reshape(-1,1))\n",
    "    predicted_inverted.append(scaler.inverse_transform(predicted[:,:,i]))\n",
    "print np.array(predicted_inverted).shape\n",
    "#get only the close data\n",
    "ground_true = ground_true[:,:,0].reshape(-1)\n",
    "ground_true_times = ground_true_times.reshape(-1)\n",
    "ground_true_times = pd.to_datetime(ground_true_times, unit='s')\n",
    "# since we are appending in the first dimension\n",
    "predicted_inverted = np.array(predicted_inverted)[0,:,:].reshape(-1)\n",
    "print np.array(predicted_inverted).shape\n",
    "validation_output_times = pd.to_datetime(validation_output_times.reshape(-1), unit='s')"
   ]
  },
  {
   "cell_type": "code",
   "execution_count": 337,
   "metadata": {},
   "outputs": [
    {
     "data": {
      "text/html": [
       "<div>\n",
       "<style>\n",
       "    .dataframe thead tr:only-child th {\n",
       "        text-align: right;\n",
       "    }\n",
       "\n",
       "    .dataframe thead th {\n",
       "        text-align: left;\n",
       "    }\n",
       "\n",
       "    .dataframe tbody tr th {\n",
       "        vertical-align: top;\n",
       "    }\n",
       "</style>\n",
       "<table border=\"1\" class=\"dataframe\">\n",
       "  <thead>\n",
       "    <tr style=\"text-align: right;\">\n",
       "      <th></th>\n",
       "      <th>times</th>\n",
       "      <th>value</th>\n",
       "    </tr>\n",
       "  </thead>\n",
       "  <tbody>\n",
       "    <tr>\n",
       "      <th>0</th>\n",
       "      <td>2017-06-03 16:30:00</td>\n",
       "      <td>2444.999900</td>\n",
       "    </tr>\n",
       "    <tr>\n",
       "      <th>1</th>\n",
       "      <td>2017-06-03 16:35:00</td>\n",
       "      <td>2440.999999</td>\n",
       "    </tr>\n",
       "    <tr>\n",
       "      <th>2</th>\n",
       "      <td>2017-06-03 16:40:00</td>\n",
       "      <td>2450.000000</td>\n",
       "    </tr>\n",
       "    <tr>\n",
       "      <th>3</th>\n",
       "      <td>2017-06-03 16:45:00</td>\n",
       "      <td>2455.000000</td>\n",
       "    </tr>\n",
       "    <tr>\n",
       "      <th>4</th>\n",
       "      <td>2017-06-03 16:50:00</td>\n",
       "      <td>2456.000000</td>\n",
       "    </tr>\n",
       "  </tbody>\n",
       "</table>\n",
       "</div>"
      ],
      "text/plain": [
       "                times        value\n",
       "0 2017-06-03 16:30:00  2444.999900\n",
       "1 2017-06-03 16:35:00  2440.999999\n",
       "2 2017-06-03 16:40:00  2450.000000\n",
       "3 2017-06-03 16:45:00  2455.000000\n",
       "4 2017-06-03 16:50:00  2456.000000"
      ]
     },
     "execution_count": 337,
     "metadata": {},
     "output_type": "execute_result"
    }
   ],
   "source": [
    "ground_true_df = pd.DataFrame()\n",
    "ground_true_df['times'] = ground_true_times\n",
    "ground_true_df['value'] = ground_true\n",
    "ground_true_df.head()"
   ]
  },
  {
   "cell_type": "code",
   "execution_count": 338,
   "metadata": {},
   "outputs": [
    {
     "data": {
      "text/plain": [
       "(60112, 2)"
      ]
     },
     "execution_count": 338,
     "metadata": {},
     "output_type": "execute_result"
    }
   ],
   "source": [
    "ground_true_df = pd.DataFrame()\n",
    "ground_true_df['times'] = ground_true_times\n",
    "ground_true_df['value'] = ground_true\n",
    "ground_true_df.set_index('times').reset_index()\n",
    "ground_true_df.shape"
   ]
  },
  {
   "cell_type": "code",
   "execution_count": 339,
   "metadata": {},
   "outputs": [
    {
     "data": {
      "text/plain": [
       "(3536, 2)"
      ]
     },
     "execution_count": 339,
     "metadata": {},
     "output_type": "execute_result"
    }
   ],
   "source": [
    "prediction_df = pd.DataFrame()\n",
    "prediction_df['times'] = validation_output_times\n",
    "prediction_df['value'] = predicted_inverted\n",
    "prediction_df.shape"
   ]
  },
  {
   "cell_type": "code",
   "execution_count": 340,
   "metadata": {
    "scrolled": true
   },
   "outputs": [
    {
     "data": {
      "text/html": [
       "<div>\n",
       "<style>\n",
       "    .dataframe thead tr:only-child th {\n",
       "        text-align: right;\n",
       "    }\n",
       "\n",
       "    .dataframe thead th {\n",
       "        text-align: left;\n",
       "    }\n",
       "\n",
       "    .dataframe tbody tr th {\n",
       "        vertical-align: top;\n",
       "    }\n",
       "</style>\n",
       "<table border=\"1\" class=\"dataframe\">\n",
       "  <thead>\n",
       "    <tr style=\"text-align: right;\">\n",
       "      <th></th>\n",
       "      <th>times</th>\n",
       "      <th>value</th>\n",
       "    </tr>\n",
       "  </thead>\n",
       "  <tbody>\n",
       "    <tr>\n",
       "      <th>0</th>\n",
       "      <td>2017-06-04 13:50:00</td>\n",
       "      <td>2394.123047</td>\n",
       "    </tr>\n",
       "    <tr>\n",
       "      <th>1</th>\n",
       "      <td>2017-06-04 13:55:00</td>\n",
       "      <td>2393.950439</td>\n",
       "    </tr>\n",
       "    <tr>\n",
       "      <th>2</th>\n",
       "      <td>2017-06-04 14:00:00</td>\n",
       "      <td>2399.898926</td>\n",
       "    </tr>\n",
       "    <tr>\n",
       "      <th>3</th>\n",
       "      <td>2017-06-04 14:05:00</td>\n",
       "      <td>2403.198730</td>\n",
       "    </tr>\n",
       "    <tr>\n",
       "      <th>4</th>\n",
       "      <td>2017-06-04 14:10:00</td>\n",
       "      <td>2400.576416</td>\n",
       "    </tr>\n",
       "  </tbody>\n",
       "</table>\n",
       "</div>"
      ],
      "text/plain": [
       "                times        value\n",
       "0 2017-06-04 13:50:00  2394.123047\n",
       "1 2017-06-04 13:55:00  2393.950439\n",
       "2 2017-06-04 14:00:00  2399.898926\n",
       "3 2017-06-04 14:05:00  2403.198730\n",
       "4 2017-06-04 14:10:00  2400.576416"
      ]
     },
     "execution_count": 340,
     "metadata": {},
     "output_type": "execute_result"
    }
   ],
   "source": [
    "prediction_df.head()"
   ]
  },
  {
   "cell_type": "code",
   "execution_count": 341,
   "metadata": {
    "collapsed": true,
    "scrolled": true
   },
   "outputs": [],
   "source": [
    "# 2016/5\n",
    "prediction_df = prediction_df.loc[(prediction_df[\"times\"].dt.year == 2017 )&(prediction_df[\"times\"].dt.month > 7 ),: ]\n",
    "ground_true_df = ground_true_df.loc[(ground_true_df[\"times\"].dt.year == 2017 )&(ground_true_df[\"times\"].dt.month > 7 ),:]"
   ]
  },
  {
   "cell_type": "code",
   "execution_count": 342,
   "metadata": {
    "scrolled": false
   },
   "outputs": [
    {
     "data": {
      "image/png": "[encoded data removed]",
      "text/plain": [
       "<matplotlib.figure.Figure at 0x7f41cc1fd2d0>"
      ]
     },
     "metadata": {},
     "output_type": "display_data"
    }
   ],
   "source": [
    "plt.figure(figsize=(20,10))\n",
    "plt.plot(ground_true_df.times,ground_true_df.value, label = 'Actual')\n",
    "plt.plot(prediction_df.times,prediction_df.value,'ro', label='Predicted')\n",
    "plt.legend(loc='upper left')\n",
    "plt.savefig('result/bitcoin2015to2017_close_CNN_2_relu_result.png')\n",
    "plt.show()"
   ]
  },
  {
   "cell_type": "code",
   "execution_count": 343,
   "metadata": {},
   "outputs": [
    {
     "data": {
      "text/plain": [
       "118021.69414706303"
      ]
     },
     "execution_count": 343,
     "metadata": {},
     "output_type": "execute_result"
    }
   ],
   "source": [
    "from sklearn.metrics import mean_squared_error\n",
    "mean_squared_error(validation_original_outputs[:,:,0].reshape(-1),predicted_inverted)"
   ]
  },
  {
   "cell_type": "code",
   "execution_count": null,
   "metadata": {
    "collapsed": true
   },
   "outputs": [],
   "source": []
  }
 ],
 "metadata": {
  "kernelspec": {
   "display_name": "Python 2",
   "language": "python",
   "name": "python2"
  },
  "language_info": {
   "codemirror_mode": {
    "name": "ipython",
    "version": 2
   },
   "file_extension": ".py",
   "mimetype": "text/x-python",
   "name": "python",
   "nbconvert_exporter": "python",
   "pygments_lexer": "ipython2",
   "version": "2.7.14"
  }
 },
 "nbformat": 4,
 "nbformat_minor": 2
}
